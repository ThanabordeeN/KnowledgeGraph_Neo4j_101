{
 "cells": [
  {
   "cell_type": "code",
   "execution_count": 35,
   "id": "f134926d",
   "metadata": {},
   "outputs": [
    {
     "data": {
      "text/plain": [
       "True"
      ]
     },
     "execution_count": 35,
     "metadata": {},
     "output_type": "execute_result"
    }
   ],
   "source": [
    "from llama_index.graph_stores.neo4j import Neo4jPropertyGraphStore\n",
    "from llama_index.core.query_engine import RetrieverQueryEngine\n",
    "from llama_index.core import StorageContext\n",
    "from llama_index.graph_stores.neo4j import Neo4jGraphStore\n",
    "import os\n",
    "from llama_index.llms.litellm import LiteLLM\n",
    "from llama_index.embeddings.openai import OpenAIEmbedding\n",
    "from llama_index.core.retrievers import KnowledgeGraphRAGRetriever\n",
    "\n",
    "import nest_asyncio\n",
    "nest_asyncio.apply()\n",
    "import dotenv\n",
    "dotenv.load_dotenv()\n"
   ]
  },
  {
   "cell_type": "code",
   "execution_count": 36,
   "id": "f130d4bf",
   "metadata": {},
   "outputs": [],
   "source": [
    "llm = LiteLLM(model=\"gemini/gemini-2.0-flash-lite\",api_key=os.getenv(\"GOOGLE_API_KEY\"))\n",
    "# llm = LiteLLM(model=\"ollama/qwen3:8b\",api_key=os.getenv(\"GOOGLE_API_KEY\"))\n",
    "embedding = OpenAIEmbedding(model=\"text-embedding-ada-002\", api_key=os.getenv(\"OPENAI_API_KEY\"))"
   ]
  },
  {
   "cell_type": "code",
   "execution_count": 37,
   "id": "9da5c66d",
   "metadata": {},
   "outputs": [],
   "source": [
    "# # For local Neo4j instance if you prefer that\n",
    "username = \"neo4j\"\n",
    "password = \"password\"  # default password for local Neo4j installation\n",
    "url = \"bolt://localhost:7687\"  # standard localhost URL for Neo4j\n"
   ]
  },
  {
   "cell_type": "code",
   "execution_count": 38,
   "id": "18620ceb",
   "metadata": {},
   "outputs": [],
   "source": [
    "graph_store = Neo4jGraphStore(\n",
    "    username=username,\n",
    "    password=password,\n",
    "    url=url,\n",
    "    database=\"neo4j\",\n",
    ")\n",
    "\n",
    "storage_context = StorageContext.from_defaults(graph_store=graph_store)\n"
   ]
  },
  {
   "cell_type": "code",
   "execution_count": 39,
   "id": "9bee73a0",
   "metadata": {},
   "outputs": [
    {
     "name": "stderr",
     "output_type": "stream",
     "text": [
      "C:\\Users\\cepheusn22\\AppData\\Local\\Temp\\ipykernel_21292\\2173423176.py:1: DeprecationWarning: Call to deprecated class KnowledgeGraphRAGRetriever. (KnowledgeGraphRAGRetriever is deprecated, it is recommended to use PropertyGraphIndex and associated retrievers instead.) -- Deprecated since version 0.10.53.\n",
      "  graph_knowledge_index = KnowledgeGraphRAGRetriever(\n"
     ]
    }
   ],
   "source": [
    "graph_knowledge_index = KnowledgeGraphRAGRetriever(\n",
    "    graph_store=graph_store,\n",
    "    storage_context=storage_context,\n",
    "    llm=llm,\n",
    "    embedding=embedding,\n",
    "    # use a different index name to avoid collision with the previous index\n",
    ")"
   ]
  },
  {
   "cell_type": "code",
   "execution_count": 48,
   "id": "c1cda4f0",
   "metadata": {},
   "outputs": [],
   "source": [
    "query_engine = RetrieverQueryEngine.from_args(\n",
    "    graph_knowledge_index,\n",
    "    response_mode=\"tree_summarize\",\n",
    ")"
   ]
  },
  {
   "cell_type": "code",
   "execution_count": 49,
   "id": "e5036140",
   "metadata": {},
   "outputs": [
    {
     "data": {
      "text/markdown": [
       "**Response:** Empty Response"
      ],
      "text/plain": [
       "<IPython.core.display.Markdown object>"
      ]
     },
     "metadata": {},
     "output_type": "display_data"
    }
   ],
   "source": [
    "from IPython.display import display, Markdown\n",
    "response = query_engine.query(\n",
    "    \"What is the capital of France?\",\n",
    ")\n",
    "display(Markdown(f\"**Response:** {response}\"))"
   ]
  },
  {
   "cell_type": "code",
   "execution_count": null,
   "id": "0c71c333",
   "metadata": {},
   "outputs": [],
   "source": []
  }
 ],
 "metadata": {
  "kernelspec": {
   "display_name": ".venv",
   "language": "python",
   "name": "python3"
  },
  "language_info": {
   "codemirror_mode": {
    "name": "ipython",
    "version": 3
   },
   "file_extension": ".py",
   "mimetype": "text/x-python",
   "name": "python",
   "nbconvert_exporter": "python",
   "pygments_lexer": "ipython3",
   "version": "3.12.9"
  }
 },
 "nbformat": 4,
 "nbformat_minor": 5
}
