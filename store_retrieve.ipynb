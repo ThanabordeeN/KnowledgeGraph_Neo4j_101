{
 "cells": [
  {
   "cell_type": "code",
   "execution_count": 1,
   "id": "d049b168",
   "metadata": {},
   "outputs": [
    {
     "name": "stdout",
     "output_type": "stream",
     "text": [
      "Requirement already satisfied: llama-index-llms-litellm in f:\\ai\\knowledgegraph\\.venv\\lib\\site-packages (0.4.1)\n",
      "Requirement already satisfied: litellm<2.0.0,>=1.18.13 in f:\\ai\\knowledgegraph\\.venv\\lib\\site-packages (from llama-index-llms-litellm) (1.68.0)\n",
      "Requirement already satisfied: llama-index-core<0.13.0,>=0.12.0 in f:\\ai\\knowledgegraph\\.venv\\lib\\site-packages (from llama-index-llms-litellm) (0.12.34.post1)\n",
      "Requirement already satisfied: aiohttp in f:\\ai\\knowledgegraph\\.venv\\lib\\site-packages (from litellm<2.0.0,>=1.18.13->llama-index-llms-litellm) (3.11.18)\n",
      "Requirement already satisfied: click in f:\\ai\\knowledgegraph\\.venv\\lib\\site-packages (from litellm<2.0.0,>=1.18.13->llama-index-llms-litellm) (8.1.8)\n",
      "Requirement already satisfied: httpx>=0.23.0 in f:\\ai\\knowledgegraph\\.venv\\lib\\site-packages (from litellm<2.0.0,>=1.18.13->llama-index-llms-litellm) (0.28.1)\n",
      "Requirement already satisfied: importlib-metadata>=6.8.0 in f:\\ai\\knowledgegraph\\.venv\\lib\\site-packages (from litellm<2.0.0,>=1.18.13->llama-index-llms-litellm) (8.7.0)\n",
      "Requirement already satisfied: jinja2<4.0.0,>=3.1.2 in f:\\ai\\knowledgegraph\\.venv\\lib\\site-packages (from litellm<2.0.0,>=1.18.13->llama-index-llms-litellm) (3.1.6)\n",
      "Requirement already satisfied: jsonschema<5.0.0,>=4.22.0 in f:\\ai\\knowledgegraph\\.venv\\lib\\site-packages (from litellm<2.0.0,>=1.18.13->llama-index-llms-litellm) (4.23.0)\n",
      "Requirement already satisfied: openai<1.76.0,>=1.68.2 in f:\\ai\\knowledgegraph\\.venv\\lib\\site-packages (from litellm<2.0.0,>=1.18.13->llama-index-llms-litellm) (1.75.0)\n",
      "Requirement already satisfied: pydantic<3.0.0,>=2.0.0 in f:\\ai\\knowledgegraph\\.venv\\lib\\site-packages (from litellm<2.0.0,>=1.18.13->llama-index-llms-litellm) (2.11.4)\n",
      "Requirement already satisfied: python-dotenv>=0.2.0 in f:\\ai\\knowledgegraph\\.venv\\lib\\site-packages (from litellm<2.0.0,>=1.18.13->llama-index-llms-litellm) (1.1.0)\n",
      "Requirement already satisfied: tiktoken>=0.7.0 in f:\\ai\\knowledgegraph\\.venv\\lib\\site-packages (from litellm<2.0.0,>=1.18.13->llama-index-llms-litellm) (0.9.0)\n",
      "Requirement already satisfied: tokenizers in f:\\ai\\knowledgegraph\\.venv\\lib\\site-packages (from litellm<2.0.0,>=1.18.13->llama-index-llms-litellm) (0.21.1)\n",
      "Requirement already satisfied: MarkupSafe>=2.0 in f:\\ai\\knowledgegraph\\.venv\\lib\\site-packages (from jinja2<4.0.0,>=3.1.2->litellm<2.0.0,>=1.18.13->llama-index-llms-litellm) (3.0.2)\n",
      "Requirement already satisfied: attrs>=22.2.0 in f:\\ai\\knowledgegraph\\.venv\\lib\\site-packages (from jsonschema<5.0.0,>=4.22.0->litellm<2.0.0,>=1.18.13->llama-index-llms-litellm) (25.3.0)\n",
      "Requirement already satisfied: jsonschema-specifications>=2023.03.6 in f:\\ai\\knowledgegraph\\.venv\\lib\\site-packages (from jsonschema<5.0.0,>=4.22.0->litellm<2.0.0,>=1.18.13->llama-index-llms-litellm) (2025.4.1)\n",
      "Requirement already satisfied: referencing>=0.28.4 in f:\\ai\\knowledgegraph\\.venv\\lib\\site-packages (from jsonschema<5.0.0,>=4.22.0->litellm<2.0.0,>=1.18.13->llama-index-llms-litellm) (0.36.2)\n",
      "Requirement already satisfied: rpds-py>=0.7.1 in f:\\ai\\knowledgegraph\\.venv\\lib\\site-packages (from jsonschema<5.0.0,>=4.22.0->litellm<2.0.0,>=1.18.13->llama-index-llms-litellm) (0.24.0)\n",
      "Requirement already satisfied: banks<3,>=2.0.0 in f:\\ai\\knowledgegraph\\.venv\\lib\\site-packages (from llama-index-core<0.13.0,>=0.12.0->llama-index-llms-litellm) (2.1.2)\n",
      "Requirement already satisfied: dataclasses-json in f:\\ai\\knowledgegraph\\.venv\\lib\\site-packages (from llama-index-core<0.13.0,>=0.12.0->llama-index-llms-litellm) (0.6.7)\n",
      "Requirement already satisfied: deprecated>=1.2.9.3 in f:\\ai\\knowledgegraph\\.venv\\lib\\site-packages (from llama-index-core<0.13.0,>=0.12.0->llama-index-llms-litellm) (1.2.18)\n",
      "Requirement already satisfied: dirtyjson<2,>=1.0.8 in f:\\ai\\knowledgegraph\\.venv\\lib\\site-packages (from llama-index-core<0.13.0,>=0.12.0->llama-index-llms-litellm) (1.0.8)\n",
      "Requirement already satisfied: filetype<2,>=1.2.0 in f:\\ai\\knowledgegraph\\.venv\\lib\\site-packages (from llama-index-core<0.13.0,>=0.12.0->llama-index-llms-litellm) (1.2.0)\n",
      "Requirement already satisfied: fsspec>=2023.5.0 in f:\\ai\\knowledgegraph\\.venv\\lib\\site-packages (from llama-index-core<0.13.0,>=0.12.0->llama-index-llms-litellm) (2025.3.0)\n",
      "Requirement already satisfied: nest-asyncio<2,>=1.5.8 in f:\\ai\\knowledgegraph\\.venv\\lib\\site-packages (from llama-index-core<0.13.0,>=0.12.0->llama-index-llms-litellm) (1.6.0)\n",
      "Requirement already satisfied: networkx>=3.0 in f:\\ai\\knowledgegraph\\.venv\\lib\\site-packages (from llama-index-core<0.13.0,>=0.12.0->llama-index-llms-litellm) (3.4.2)\n",
      "Requirement already satisfied: nltk>3.8.1 in f:\\ai\\knowledgegraph\\.venv\\lib\\site-packages (from llama-index-core<0.13.0,>=0.12.0->llama-index-llms-litellm) (3.9.1)\n",
      "Requirement already satisfied: numpy in f:\\ai\\knowledgegraph\\.venv\\lib\\site-packages (from llama-index-core<0.13.0,>=0.12.0->llama-index-llms-litellm) (2.2.5)\n",
      "Requirement already satisfied: pillow>=9.0.0 in f:\\ai\\knowledgegraph\\.venv\\lib\\site-packages (from llama-index-core<0.13.0,>=0.12.0->llama-index-llms-litellm) (11.2.1)\n",
      "Requirement already satisfied: pyyaml>=6.0.1 in f:\\ai\\knowledgegraph\\.venv\\lib\\site-packages (from llama-index-core<0.13.0,>=0.12.0->llama-index-llms-litellm) (6.0.2)\n",
      "Requirement already satisfied: requests>=2.31.0 in f:\\ai\\knowledgegraph\\.venv\\lib\\site-packages (from llama-index-core<0.13.0,>=0.12.0->llama-index-llms-litellm) (2.32.3)\n",
      "Requirement already satisfied: sqlalchemy>=1.4.49 in f:\\ai\\knowledgegraph\\.venv\\lib\\site-packages (from sqlalchemy[asyncio]>=1.4.49->llama-index-core<0.13.0,>=0.12.0->llama-index-llms-litellm) (2.0.40)\n",
      "Requirement already satisfied: tenacity!=8.4.0,<10.0.0,>=8.2.0 in f:\\ai\\knowledgegraph\\.venv\\lib\\site-packages (from llama-index-core<0.13.0,>=0.12.0->llama-index-llms-litellm) (9.1.2)\n",
      "Requirement already satisfied: tqdm<5,>=4.66.1 in f:\\ai\\knowledgegraph\\.venv\\lib\\site-packages (from llama-index-core<0.13.0,>=0.12.0->llama-index-llms-litellm) (4.67.1)\n",
      "Requirement already satisfied: typing-extensions>=4.5.0 in f:\\ai\\knowledgegraph\\.venv\\lib\\site-packages (from llama-index-core<0.13.0,>=0.12.0->llama-index-llms-litellm) (4.13.2)\n",
      "Requirement already satisfied: typing-inspect>=0.8.0 in f:\\ai\\knowledgegraph\\.venv\\lib\\site-packages (from llama-index-core<0.13.0,>=0.12.0->llama-index-llms-litellm) (0.9.0)\n",
      "Requirement already satisfied: wrapt in f:\\ai\\knowledgegraph\\.venv\\lib\\site-packages (from llama-index-core<0.13.0,>=0.12.0->llama-index-llms-litellm) (1.17.2)\n",
      "Requirement already satisfied: aiohappyeyeballs>=2.3.0 in f:\\ai\\knowledgegraph\\.venv\\lib\\site-packages (from aiohttp->litellm<2.0.0,>=1.18.13->llama-index-llms-litellm) (2.6.1)\n",
      "Requirement already satisfied: aiosignal>=1.1.2 in f:\\ai\\knowledgegraph\\.venv\\lib\\site-packages (from aiohttp->litellm<2.0.0,>=1.18.13->llama-index-llms-litellm) (1.3.2)\n",
      "Requirement already satisfied: frozenlist>=1.1.1 in f:\\ai\\knowledgegraph\\.venv\\lib\\site-packages (from aiohttp->litellm<2.0.0,>=1.18.13->llama-index-llms-litellm) (1.6.0)\n",
      "Requirement already satisfied: multidict<7.0,>=4.5 in f:\\ai\\knowledgegraph\\.venv\\lib\\site-packages (from aiohttp->litellm<2.0.0,>=1.18.13->llama-index-llms-litellm) (6.4.3)\n",
      "Requirement already satisfied: propcache>=0.2.0 in f:\\ai\\knowledgegraph\\.venv\\lib\\site-packages (from aiohttp->litellm<2.0.0,>=1.18.13->llama-index-llms-litellm) (0.3.1)\n",
      "Requirement already satisfied: yarl<2.0,>=1.17.0 in f:\\ai\\knowledgegraph\\.venv\\lib\\site-packages (from aiohttp->litellm<2.0.0,>=1.18.13->llama-index-llms-litellm) (1.20.0)\n",
      "Requirement already satisfied: griffe in f:\\ai\\knowledgegraph\\.venv\\lib\\site-packages (from banks<3,>=2.0.0->llama-index-core<0.13.0,>=0.12.0->llama-index-llms-litellm) (1.7.3)\n",
      "Requirement already satisfied: platformdirs in f:\\ai\\knowledgegraph\\.venv\\lib\\site-packages (from banks<3,>=2.0.0->llama-index-core<0.13.0,>=0.12.0->llama-index-llms-litellm) (4.3.7)\n",
      "Requirement already satisfied: anyio<5,>=3.5.0 in f:\\ai\\knowledgegraph\\.venv\\lib\\site-packages (from openai<1.76.0,>=1.68.2->litellm<2.0.0,>=1.18.13->llama-index-llms-litellm) (4.9.0)\n",
      "Requirement already satisfied: distro<2,>=1.7.0 in f:\\ai\\knowledgegraph\\.venv\\lib\\site-packages (from openai<1.76.0,>=1.68.2->litellm<2.0.0,>=1.18.13->llama-index-llms-litellm) (1.9.0)\n",
      "Requirement already satisfied: jiter<1,>=0.4.0 in f:\\ai\\knowledgegraph\\.venv\\lib\\site-packages (from openai<1.76.0,>=1.68.2->litellm<2.0.0,>=1.18.13->llama-index-llms-litellm) (0.9.0)\n",
      "Requirement already satisfied: sniffio in f:\\ai\\knowledgegraph\\.venv\\lib\\site-packages (from openai<1.76.0,>=1.68.2->litellm<2.0.0,>=1.18.13->llama-index-llms-litellm) (1.3.1)\n",
      "Requirement already satisfied: idna>=2.8 in f:\\ai\\knowledgegraph\\.venv\\lib\\site-packages (from anyio<5,>=3.5.0->openai<1.76.0,>=1.68.2->litellm<2.0.0,>=1.18.13->llama-index-llms-litellm) (3.10)\n",
      "Requirement already satisfied: certifi in f:\\ai\\knowledgegraph\\.venv\\lib\\site-packages (from httpx>=0.23.0->litellm<2.0.0,>=1.18.13->llama-index-llms-litellm) (2025.4.26)\n",
      "Requirement already satisfied: httpcore==1.* in f:\\ai\\knowledgegraph\\.venv\\lib\\site-packages (from httpx>=0.23.0->litellm<2.0.0,>=1.18.13->llama-index-llms-litellm) (1.0.9)\n",
      "Requirement already satisfied: h11>=0.16 in f:\\ai\\knowledgegraph\\.venv\\lib\\site-packages (from httpcore==1.*->httpx>=0.23.0->litellm<2.0.0,>=1.18.13->llama-index-llms-litellm) (0.16.0)\n",
      "Requirement already satisfied: annotated-types>=0.6.0 in f:\\ai\\knowledgegraph\\.venv\\lib\\site-packages (from pydantic<3.0.0,>=2.0.0->litellm<2.0.0,>=1.18.13->llama-index-llms-litellm) (0.7.0)\n",
      "Requirement already satisfied: pydantic-core==2.33.2 in f:\\ai\\knowledgegraph\\.venv\\lib\\site-packages (from pydantic<3.0.0,>=2.0.0->litellm<2.0.0,>=1.18.13->llama-index-llms-litellm) (2.33.2)\n",
      "Requirement already satisfied: typing-inspection>=0.4.0 in f:\\ai\\knowledgegraph\\.venv\\lib\\site-packages (from pydantic<3.0.0,>=2.0.0->litellm<2.0.0,>=1.18.13->llama-index-llms-litellm) (0.4.0)\n",
      "Requirement already satisfied: colorama in f:\\ai\\knowledgegraph\\.venv\\lib\\site-packages (from tqdm<5,>=4.66.1->llama-index-core<0.13.0,>=0.12.0->llama-index-llms-litellm) (0.4.6)\n",
      "Requirement already satisfied: zipp>=3.20 in f:\\ai\\knowledgegraph\\.venv\\lib\\site-packages (from importlib-metadata>=6.8.0->litellm<2.0.0,>=1.18.13->llama-index-llms-litellm) (3.21.0)\n",
      "Requirement already satisfied: joblib in f:\\ai\\knowledgegraph\\.venv\\lib\\site-packages (from nltk>3.8.1->llama-index-core<0.13.0,>=0.12.0->llama-index-llms-litellm) (1.5.0)\n",
      "Requirement already satisfied: regex>=2021.8.3 in f:\\ai\\knowledgegraph\\.venv\\lib\\site-packages (from nltk>3.8.1->llama-index-core<0.13.0,>=0.12.0->llama-index-llms-litellm) (2024.11.6)\n",
      "Requirement already satisfied: charset-normalizer<4,>=2 in f:\\ai\\knowledgegraph\\.venv\\lib\\site-packages (from requests>=2.31.0->llama-index-core<0.13.0,>=0.12.0->llama-index-llms-litellm) (3.4.2)\n",
      "Requirement already satisfied: urllib3<3,>=1.21.1 in f:\\ai\\knowledgegraph\\.venv\\lib\\site-packages (from requests>=2.31.0->llama-index-core<0.13.0,>=0.12.0->llama-index-llms-litellm) (2.4.0)\n",
      "Requirement already satisfied: greenlet>=1 in f:\\ai\\knowledgegraph\\.venv\\lib\\site-packages (from sqlalchemy>=1.4.49->sqlalchemy[asyncio]>=1.4.49->llama-index-core<0.13.0,>=0.12.0->llama-index-llms-litellm) (3.2.1)\n",
      "Requirement already satisfied: mypy-extensions>=0.3.0 in f:\\ai\\knowledgegraph\\.venv\\lib\\site-packages (from typing-inspect>=0.8.0->llama-index-core<0.13.0,>=0.12.0->llama-index-llms-litellm) (1.1.0)\n",
      "Requirement already satisfied: marshmallow<4.0.0,>=3.18.0 in f:\\ai\\knowledgegraph\\.venv\\lib\\site-packages (from dataclasses-json->llama-index-core<0.13.0,>=0.12.0->llama-index-llms-litellm) (3.26.1)\n",
      "Requirement already satisfied: packaging>=17.0 in f:\\ai\\knowledgegraph\\.venv\\lib\\site-packages (from marshmallow<4.0.0,>=3.18.0->dataclasses-json->llama-index-core<0.13.0,>=0.12.0->llama-index-llms-litellm) (25.0)\n",
      "Requirement already satisfied: huggingface-hub<1.0,>=0.16.4 in f:\\ai\\knowledgegraph\\.venv\\lib\\site-packages (from tokenizers->litellm<2.0.0,>=1.18.13->llama-index-llms-litellm) (0.30.2)\n",
      "Requirement already satisfied: filelock in f:\\ai\\knowledgegraph\\.venv\\lib\\site-packages (from huggingface-hub<1.0,>=0.16.4->tokenizers->litellm<2.0.0,>=1.18.13->llama-index-llms-litellm) (3.18.0)\n",
      "Note: you may need to restart the kernel to use updated packages.\n",
      "Requirement already satisfied: llama-index in f:\\ai\\knowledgegraph\\.venv\\lib\\site-packages (0.12.34)\n",
      "Requirement already satisfied: llama-index-agent-openai<0.5,>=0.4.0 in f:\\ai\\knowledgegraph\\.venv\\lib\\site-packages (from llama-index) (0.4.7)\n",
      "Requirement already satisfied: llama-index-cli<0.5,>=0.4.1 in f:\\ai\\knowledgegraph\\.venv\\lib\\site-packages (from llama-index) (0.4.1)\n",
      "Requirement already satisfied: llama-index-core<0.13,>=0.12.34 in f:\\ai\\knowledgegraph\\.venv\\lib\\site-packages (from llama-index) (0.12.34.post1)\n",
      "Requirement already satisfied: llama-index-embeddings-openai<0.4,>=0.3.0 in f:\\ai\\knowledgegraph\\.venv\\lib\\site-packages (from llama-index) (0.3.1)\n",
      "Requirement already satisfied: llama-index-indices-managed-llama-cloud>=0.4.0 in f:\\ai\\knowledgegraph\\.venv\\lib\\site-packages (from llama-index) (0.6.11)\n",
      "Requirement already satisfied: llama-index-llms-openai<0.4,>=0.3.0 in f:\\ai\\knowledgegraph\\.venv\\lib\\site-packages (from llama-index) (0.3.38)\n",
      "Requirement already satisfied: llama-index-multi-modal-llms-openai<0.5,>=0.4.0 in f:\\ai\\knowledgegraph\\.venv\\lib\\site-packages (from llama-index) (0.4.3)\n",
      "Requirement already satisfied: llama-index-program-openai<0.4,>=0.3.0 in f:\\ai\\knowledgegraph\\.venv\\lib\\site-packages (from llama-index) (0.3.1)\n",
      "Requirement already satisfied: llama-index-question-gen-openai<0.4,>=0.3.0 in f:\\ai\\knowledgegraph\\.venv\\lib\\site-packages (from llama-index) (0.3.0)\n",
      "Requirement already satisfied: llama-index-readers-file<0.5,>=0.4.0 in f:\\ai\\knowledgegraph\\.venv\\lib\\site-packages (from llama-index) (0.4.7)\n",
      "Requirement already satisfied: llama-index-readers-llama-parse>=0.4.0 in f:\\ai\\knowledgegraph\\.venv\\lib\\site-packages (from llama-index) (0.4.0)\n",
      "Requirement already satisfied: nltk>3.8.1 in f:\\ai\\knowledgegraph\\.venv\\lib\\site-packages (from llama-index) (3.9.1)\n",
      "Requirement already satisfied: openai>=1.14.0 in f:\\ai\\knowledgegraph\\.venv\\lib\\site-packages (from llama-index-agent-openai<0.5,>=0.4.0->llama-index) (1.75.0)\n",
      "Requirement already satisfied: aiohttp<4,>=3.8.6 in f:\\ai\\knowledgegraph\\.venv\\lib\\site-packages (from llama-index-core<0.13,>=0.12.34->llama-index) (3.11.18)\n",
      "Requirement already satisfied: banks<3,>=2.0.0 in f:\\ai\\knowledgegraph\\.venv\\lib\\site-packages (from llama-index-core<0.13,>=0.12.34->llama-index) (2.1.2)\n",
      "Requirement already satisfied: dataclasses-json in f:\\ai\\knowledgegraph\\.venv\\lib\\site-packages (from llama-index-core<0.13,>=0.12.34->llama-index) (0.6.7)\n",
      "Requirement already satisfied: deprecated>=1.2.9.3 in f:\\ai\\knowledgegraph\\.venv\\lib\\site-packages (from llama-index-core<0.13,>=0.12.34->llama-index) (1.2.18)\n",
      "Requirement already satisfied: dirtyjson<2,>=1.0.8 in f:\\ai\\knowledgegraph\\.venv\\lib\\site-packages (from llama-index-core<0.13,>=0.12.34->llama-index) (1.0.8)\n",
      "Requirement already satisfied: filetype<2,>=1.2.0 in f:\\ai\\knowledgegraph\\.venv\\lib\\site-packages (from llama-index-core<0.13,>=0.12.34->llama-index) (1.2.0)\n",
      "Requirement already satisfied: fsspec>=2023.5.0 in f:\\ai\\knowledgegraph\\.venv\\lib\\site-packages (from llama-index-core<0.13,>=0.12.34->llama-index) (2025.3.0)\n",
      "Requirement already satisfied: httpx in f:\\ai\\knowledgegraph\\.venv\\lib\\site-packages (from llama-index-core<0.13,>=0.12.34->llama-index) (0.28.1)\n",
      "Requirement already satisfied: nest-asyncio<2,>=1.5.8 in f:\\ai\\knowledgegraph\\.venv\\lib\\site-packages (from llama-index-core<0.13,>=0.12.34->llama-index) (1.6.0)\n",
      "Requirement already satisfied: networkx>=3.0 in f:\\ai\\knowledgegraph\\.venv\\lib\\site-packages (from llama-index-core<0.13,>=0.12.34->llama-index) (3.4.2)\n",
      "Requirement already satisfied: numpy in f:\\ai\\knowledgegraph\\.venv\\lib\\site-packages (from llama-index-core<0.13,>=0.12.34->llama-index) (2.2.5)\n",
      "Requirement already satisfied: pillow>=9.0.0 in f:\\ai\\knowledgegraph\\.venv\\lib\\site-packages (from llama-index-core<0.13,>=0.12.34->llama-index) (11.2.1)\n",
      "Requirement already satisfied: pydantic>=2.8.0 in f:\\ai\\knowledgegraph\\.venv\\lib\\site-packages (from llama-index-core<0.13,>=0.12.34->llama-index) (2.11.4)\n",
      "Requirement already satisfied: pyyaml>=6.0.1 in f:\\ai\\knowledgegraph\\.venv\\lib\\site-packages (from llama-index-core<0.13,>=0.12.34->llama-index) (6.0.2)\n",
      "Requirement already satisfied: requests>=2.31.0 in f:\\ai\\knowledgegraph\\.venv\\lib\\site-packages (from llama-index-core<0.13,>=0.12.34->llama-index) (2.32.3)\n",
      "Requirement already satisfied: sqlalchemy>=1.4.49 in f:\\ai\\knowledgegraph\\.venv\\lib\\site-packages (from sqlalchemy[asyncio]>=1.4.49->llama-index-core<0.13,>=0.12.34->llama-index) (2.0.40)\n",
      "Requirement already satisfied: tenacity!=8.4.0,<10.0.0,>=8.2.0 in f:\\ai\\knowledgegraph\\.venv\\lib\\site-packages (from llama-index-core<0.13,>=0.12.34->llama-index) (9.1.2)\n",
      "Requirement already satisfied: tiktoken>=0.7.0 in f:\\ai\\knowledgegraph\\.venv\\lib\\site-packages (from llama-index-core<0.13,>=0.12.34->llama-index) (0.9.0)\n",
      "Requirement already satisfied: tqdm<5,>=4.66.1 in f:\\ai\\knowledgegraph\\.venv\\lib\\site-packages (from llama-index-core<0.13,>=0.12.34->llama-index) (4.67.1)\n",
      "Requirement already satisfied: typing-extensions>=4.5.0 in f:\\ai\\knowledgegraph\\.venv\\lib\\site-packages (from llama-index-core<0.13,>=0.12.34->llama-index) (4.13.2)\n",
      "Requirement already satisfied: typing-inspect>=0.8.0 in f:\\ai\\knowledgegraph\\.venv\\lib\\site-packages (from llama-index-core<0.13,>=0.12.34->llama-index) (0.9.0)\n",
      "Requirement already satisfied: wrapt in f:\\ai\\knowledgegraph\\.venv\\lib\\site-packages (from llama-index-core<0.13,>=0.12.34->llama-index) (1.17.2)\n",
      "Requirement already satisfied: aiohappyeyeballs>=2.3.0 in f:\\ai\\knowledgegraph\\.venv\\lib\\site-packages (from aiohttp<4,>=3.8.6->llama-index-core<0.13,>=0.12.34->llama-index) (2.6.1)\n",
      "Requirement already satisfied: aiosignal>=1.1.2 in f:\\ai\\knowledgegraph\\.venv\\lib\\site-packages (from aiohttp<4,>=3.8.6->llama-index-core<0.13,>=0.12.34->llama-index) (1.3.2)\n",
      "Requirement already satisfied: attrs>=17.3.0 in f:\\ai\\knowledgegraph\\.venv\\lib\\site-packages (from aiohttp<4,>=3.8.6->llama-index-core<0.13,>=0.12.34->llama-index) (25.3.0)\n",
      "Requirement already satisfied: frozenlist>=1.1.1 in f:\\ai\\knowledgegraph\\.venv\\lib\\site-packages (from aiohttp<4,>=3.8.6->llama-index-core<0.13,>=0.12.34->llama-index) (1.6.0)\n",
      "Requirement already satisfied: multidict<7.0,>=4.5 in f:\\ai\\knowledgegraph\\.venv\\lib\\site-packages (from aiohttp<4,>=3.8.6->llama-index-core<0.13,>=0.12.34->llama-index) (6.4.3)\n",
      "Requirement already satisfied: propcache>=0.2.0 in f:\\ai\\knowledgegraph\\.venv\\lib\\site-packages (from aiohttp<4,>=3.8.6->llama-index-core<0.13,>=0.12.34->llama-index) (0.3.1)\n",
      "Requirement already satisfied: yarl<2.0,>=1.17.0 in f:\\ai\\knowledgegraph\\.venv\\lib\\site-packages (from aiohttp<4,>=3.8.6->llama-index-core<0.13,>=0.12.34->llama-index) (1.20.0)\n",
      "Requirement already satisfied: griffe in f:\\ai\\knowledgegraph\\.venv\\lib\\site-packages (from banks<3,>=2.0.0->llama-index-core<0.13,>=0.12.34->llama-index) (1.7.3)\n",
      "Requirement already satisfied: jinja2 in f:\\ai\\knowledgegraph\\.venv\\lib\\site-packages (from banks<3,>=2.0.0->llama-index-core<0.13,>=0.12.34->llama-index) (3.1.6)\n",
      "Requirement already satisfied: platformdirs in f:\\ai\\knowledgegraph\\.venv\\lib\\site-packages (from banks<3,>=2.0.0->llama-index-core<0.13,>=0.12.34->llama-index) (4.3.7)\n",
      "Requirement already satisfied: beautifulsoup4<5.0.0,>=4.12.3 in f:\\ai\\knowledgegraph\\.venv\\lib\\site-packages (from llama-index-readers-file<0.5,>=0.4.0->llama-index) (4.13.4)\n",
      "Requirement already satisfied: pandas in f:\\ai\\knowledgegraph\\.venv\\lib\\site-packages (from llama-index-readers-file<0.5,>=0.4.0->llama-index) (2.2.3)\n",
      "Requirement already satisfied: pypdf<6.0.0,>=5.1.0 in f:\\ai\\knowledgegraph\\.venv\\lib\\site-packages (from llama-index-readers-file<0.5,>=0.4.0->llama-index) (5.4.0)\n",
      "Requirement already satisfied: striprtf<0.0.27,>=0.0.26 in f:\\ai\\knowledgegraph\\.venv\\lib\\site-packages (from llama-index-readers-file<0.5,>=0.4.0->llama-index) (0.0.26)\n",
      "Requirement already satisfied: soupsieve>1.2 in f:\\ai\\knowledgegraph\\.venv\\lib\\site-packages (from beautifulsoup4<5.0.0,>=4.12.3->llama-index-readers-file<0.5,>=0.4.0->llama-index) (2.7)\n",
      "Requirement already satisfied: anyio<5,>=3.5.0 in f:\\ai\\knowledgegraph\\.venv\\lib\\site-packages (from openai>=1.14.0->llama-index-agent-openai<0.5,>=0.4.0->llama-index) (4.9.0)\n",
      "Requirement already satisfied: distro<2,>=1.7.0 in f:\\ai\\knowledgegraph\\.venv\\lib\\site-packages (from openai>=1.14.0->llama-index-agent-openai<0.5,>=0.4.0->llama-index) (1.9.0)\n",
      "Requirement already satisfied: jiter<1,>=0.4.0 in f:\\ai\\knowledgegraph\\.venv\\lib\\site-packages (from openai>=1.14.0->llama-index-agent-openai<0.5,>=0.4.0->llama-index) (0.9.0)\n",
      "Requirement already satisfied: sniffio in f:\\ai\\knowledgegraph\\.venv\\lib\\site-packages (from openai>=1.14.0->llama-index-agent-openai<0.5,>=0.4.0->llama-index) (1.3.1)\n",
      "Requirement already satisfied: idna>=2.8 in f:\\ai\\knowledgegraph\\.venv\\lib\\site-packages (from anyio<5,>=3.5.0->openai>=1.14.0->llama-index-agent-openai<0.5,>=0.4.0->llama-index) (3.10)\n",
      "Requirement already satisfied: certifi in f:\\ai\\knowledgegraph\\.venv\\lib\\site-packages (from httpx->llama-index-core<0.13,>=0.12.34->llama-index) (2025.4.26)\n",
      "Requirement already satisfied: httpcore==1.* in f:\\ai\\knowledgegraph\\.venv\\lib\\site-packages (from httpx->llama-index-core<0.13,>=0.12.34->llama-index) (1.0.9)\n",
      "Requirement already satisfied: h11>=0.16 in f:\\ai\\knowledgegraph\\.venv\\lib\\site-packages (from httpcore==1.*->httpx->llama-index-core<0.13,>=0.12.34->llama-index) (0.16.0)\n",
      "Requirement already satisfied: annotated-types>=0.6.0 in f:\\ai\\knowledgegraph\\.venv\\lib\\site-packages (from pydantic>=2.8.0->llama-index-core<0.13,>=0.12.34->llama-index) (0.7.0)\n",
      "Requirement already satisfied: pydantic-core==2.33.2 in f:\\ai\\knowledgegraph\\.venv\\lib\\site-packages (from pydantic>=2.8.0->llama-index-core<0.13,>=0.12.34->llama-index) (2.33.2)\n",
      "Requirement already satisfied: typing-inspection>=0.4.0 in f:\\ai\\knowledgegraph\\.venv\\lib\\site-packages (from pydantic>=2.8.0->llama-index-core<0.13,>=0.12.34->llama-index) (0.4.0)\n",
      "Requirement already satisfied: colorama in f:\\ai\\knowledgegraph\\.venv\\lib\\site-packages (from tqdm<5,>=4.66.1->llama-index-core<0.13,>=0.12.34->llama-index) (0.4.6)\n",
      "Requirement already satisfied: llama-cloud<0.2.0,>=0.1.13 in f:\\ai\\knowledgegraph\\.venv\\lib\\site-packages (from llama-index-indices-managed-llama-cloud>=0.4.0->llama-index) (0.1.19)\n",
      "Requirement already satisfied: llama-parse>=0.5.0 in f:\\ai\\knowledgegraph\\.venv\\lib\\site-packages (from llama-index-readers-llama-parse>=0.4.0->llama-index) (0.6.21)\n",
      "Requirement already satisfied: llama-cloud-services>=0.6.21 in f:\\ai\\knowledgegraph\\.venv\\lib\\site-packages (from llama-parse>=0.5.0->llama-index-readers-llama-parse>=0.4.0->llama-index) (0.6.21)\n",
      "Requirement already satisfied: click<9.0.0,>=8.1.7 in f:\\ai\\knowledgegraph\\.venv\\lib\\site-packages (from llama-cloud-services>=0.6.21->llama-parse>=0.5.0->llama-index-readers-llama-parse>=0.4.0->llama-index) (8.1.8)\n",
      "Requirement already satisfied: python-dotenv<2.0.0,>=1.0.1 in f:\\ai\\knowledgegraph\\.venv\\lib\\site-packages (from llama-cloud-services>=0.6.21->llama-parse>=0.5.0->llama-index-readers-llama-parse>=0.4.0->llama-index) (1.1.0)\n",
      "Requirement already satisfied: joblib in f:\\ai\\knowledgegraph\\.venv\\lib\\site-packages (from nltk>3.8.1->llama-index) (1.5.0)\n",
      "Requirement already satisfied: regex>=2021.8.3 in f:\\ai\\knowledgegraph\\.venv\\lib\\site-packages (from nltk>3.8.1->llama-index) (2024.11.6)\n",
      "Requirement already satisfied: charset-normalizer<4,>=2 in f:\\ai\\knowledgegraph\\.venv\\lib\\site-packages (from requests>=2.31.0->llama-index-core<0.13,>=0.12.34->llama-index) (3.4.2)\n",
      "Requirement already satisfied: urllib3<3,>=1.21.1 in f:\\ai\\knowledgegraph\\.venv\\lib\\site-packages (from requests>=2.31.0->llama-index-core<0.13,>=0.12.34->llama-index) (2.4.0)\n",
      "Requirement already satisfied: greenlet>=1 in f:\\ai\\knowledgegraph\\.venv\\lib\\site-packages (from sqlalchemy>=1.4.49->sqlalchemy[asyncio]>=1.4.49->llama-index-core<0.13,>=0.12.34->llama-index) (3.2.1)\n",
      "Requirement already satisfied: mypy-extensions>=0.3.0 in f:\\ai\\knowledgegraph\\.venv\\lib\\site-packages (from typing-inspect>=0.8.0->llama-index-core<0.13,>=0.12.34->llama-index) (1.1.0)\n",
      "Requirement already satisfied: marshmallow<4.0.0,>=3.18.0 in f:\\ai\\knowledgegraph\\.venv\\lib\\site-packages (from dataclasses-json->llama-index-core<0.13,>=0.12.34->llama-index) (3.26.1)\n",
      "Requirement already satisfied: packaging>=17.0 in f:\\ai\\knowledgegraph\\.venv\\lib\\site-packages (from marshmallow<4.0.0,>=3.18.0->dataclasses-json->llama-index-core<0.13,>=0.12.34->llama-index) (25.0)\n",
      "Requirement already satisfied: MarkupSafe>=2.0 in f:\\ai\\knowledgegraph\\.venv\\lib\\site-packages (from jinja2->banks<3,>=2.0.0->llama-index-core<0.13,>=0.12.34->llama-index) (3.0.2)\n",
      "Requirement already satisfied: python-dateutil>=2.8.2 in f:\\ai\\knowledgegraph\\.venv\\lib\\site-packages (from pandas->llama-index-readers-file<0.5,>=0.4.0->llama-index) (2.9.0.post0)\n",
      "Requirement already satisfied: pytz>=2020.1 in f:\\ai\\knowledgegraph\\.venv\\lib\\site-packages (from pandas->llama-index-readers-file<0.5,>=0.4.0->llama-index) (2025.2)\n",
      "Requirement already satisfied: tzdata>=2022.7 in f:\\ai\\knowledgegraph\\.venv\\lib\\site-packages (from pandas->llama-index-readers-file<0.5,>=0.4.0->llama-index) (2025.2)\n",
      "Requirement already satisfied: six>=1.5 in f:\\ai\\knowledgegraph\\.venv\\lib\\site-packages (from python-dateutil>=2.8.2->pandas->llama-index-readers-file<0.5,>=0.4.0->llama-index) (1.17.0)\n",
      "Note: you may need to restart the kernel to use updated packages.\n"
     ]
    }
   ],
   "source": [
    "%pip install llama-index-llms-litellm\n",
    "\n",
    "%pip install llama-index\n"
   ]
  },
  {
   "cell_type": "code",
   "execution_count": 2,
   "id": "e00c5183",
   "metadata": {},
   "outputs": [
    {
     "name": "stdout",
     "output_type": "stream",
     "text": [
      "Requirement already satisfied: llama-index-graph-stores-neo4j in f:\\ai\\knowledgegraph\\.venv\\lib\\site-packages (0.4.6)\n",
      "Requirement already satisfied: llama-index-core<0.13.0,>=0.12.0 in f:\\ai\\knowledgegraph\\.venv\\lib\\site-packages (from llama-index-graph-stores-neo4j) (0.12.34.post1)\n",
      "Requirement already satisfied: neo4j<6.0.0,>=5.16.0 in f:\\ai\\knowledgegraph\\.venv\\lib\\site-packages (from llama-index-graph-stores-neo4j) (5.28.1)\n",
      "Requirement already satisfied: aiohttp<4,>=3.8.6 in f:\\ai\\knowledgegraph\\.venv\\lib\\site-packages (from llama-index-core<0.13.0,>=0.12.0->llama-index-graph-stores-neo4j) (3.11.18)\n",
      "Requirement already satisfied: banks<3,>=2.0.0 in f:\\ai\\knowledgegraph\\.venv\\lib\\site-packages (from llama-index-core<0.13.0,>=0.12.0->llama-index-graph-stores-neo4j) (2.1.2)\n",
      "Requirement already satisfied: dataclasses-json in f:\\ai\\knowledgegraph\\.venv\\lib\\site-packages (from llama-index-core<0.13.0,>=0.12.0->llama-index-graph-stores-neo4j) (0.6.7)\n",
      "Requirement already satisfied: deprecated>=1.2.9.3 in f:\\ai\\knowledgegraph\\.venv\\lib\\site-packages (from llama-index-core<0.13.0,>=0.12.0->llama-index-graph-stores-neo4j) (1.2.18)\n",
      "Requirement already satisfied: dirtyjson<2,>=1.0.8 in f:\\ai\\knowledgegraph\\.venv\\lib\\site-packages (from llama-index-core<0.13.0,>=0.12.0->llama-index-graph-stores-neo4j) (1.0.8)\n",
      "Requirement already satisfied: filetype<2,>=1.2.0 in f:\\ai\\knowledgegraph\\.venv\\lib\\site-packages (from llama-index-core<0.13.0,>=0.12.0->llama-index-graph-stores-neo4j) (1.2.0)\n",
      "Requirement already satisfied: fsspec>=2023.5.0 in f:\\ai\\knowledgegraph\\.venv\\lib\\site-packages (from llama-index-core<0.13.0,>=0.12.0->llama-index-graph-stores-neo4j) (2025.3.0)\n",
      "Requirement already satisfied: httpx in f:\\ai\\knowledgegraph\\.venv\\lib\\site-packages (from llama-index-core<0.13.0,>=0.12.0->llama-index-graph-stores-neo4j) (0.28.1)\n",
      "Requirement already satisfied: nest-asyncio<2,>=1.5.8 in f:\\ai\\knowledgegraph\\.venv\\lib\\site-packages (from llama-index-core<0.13.0,>=0.12.0->llama-index-graph-stores-neo4j) (1.6.0)\n",
      "Requirement already satisfied: networkx>=3.0 in f:\\ai\\knowledgegraph\\.venv\\lib\\site-packages (from llama-index-core<0.13.0,>=0.12.0->llama-index-graph-stores-neo4j) (3.4.2)\n",
      "Requirement already satisfied: nltk>3.8.1 in f:\\ai\\knowledgegraph\\.venv\\lib\\site-packages (from llama-index-core<0.13.0,>=0.12.0->llama-index-graph-stores-neo4j) (3.9.1)\n",
      "Requirement already satisfied: numpy in f:\\ai\\knowledgegraph\\.venv\\lib\\site-packages (from llama-index-core<0.13.0,>=0.12.0->llama-index-graph-stores-neo4j) (2.2.5)\n",
      "Requirement already satisfied: pillow>=9.0.0 in f:\\ai\\knowledgegraph\\.venv\\lib\\site-packages (from llama-index-core<0.13.0,>=0.12.0->llama-index-graph-stores-neo4j) (11.2.1)\n",
      "Requirement already satisfied: pydantic>=2.8.0 in f:\\ai\\knowledgegraph\\.venv\\lib\\site-packages (from llama-index-core<0.13.0,>=0.12.0->llama-index-graph-stores-neo4j) (2.11.4)\n",
      "Requirement already satisfied: pyyaml>=6.0.1 in f:\\ai\\knowledgegraph\\.venv\\lib\\site-packages (from llama-index-core<0.13.0,>=0.12.0->llama-index-graph-stores-neo4j) (6.0.2)\n",
      "Requirement already satisfied: requests>=2.31.0 in f:\\ai\\knowledgegraph\\.venv\\lib\\site-packages (from llama-index-core<0.13.0,>=0.12.0->llama-index-graph-stores-neo4j) (2.32.3)\n",
      "Requirement already satisfied: sqlalchemy>=1.4.49 in f:\\ai\\knowledgegraph\\.venv\\lib\\site-packages (from sqlalchemy[asyncio]>=1.4.49->llama-index-core<0.13.0,>=0.12.0->llama-index-graph-stores-neo4j) (2.0.40)\n",
      "Requirement already satisfied: tenacity!=8.4.0,<10.0.0,>=8.2.0 in f:\\ai\\knowledgegraph\\.venv\\lib\\site-packages (from llama-index-core<0.13.0,>=0.12.0->llama-index-graph-stores-neo4j) (9.1.2)\n",
      "Requirement already satisfied: tiktoken>=0.7.0 in f:\\ai\\knowledgegraph\\.venv\\lib\\site-packages (from llama-index-core<0.13.0,>=0.12.0->llama-index-graph-stores-neo4j) (0.9.0)\n",
      "Requirement already satisfied: tqdm<5,>=4.66.1 in f:\\ai\\knowledgegraph\\.venv\\lib\\site-packages (from llama-index-core<0.13.0,>=0.12.0->llama-index-graph-stores-neo4j) (4.67.1)\n",
      "Requirement already satisfied: typing-extensions>=4.5.0 in f:\\ai\\knowledgegraph\\.venv\\lib\\site-packages (from llama-index-core<0.13.0,>=0.12.0->llama-index-graph-stores-neo4j) (4.13.2)\n",
      "Requirement already satisfied: typing-inspect>=0.8.0 in f:\\ai\\knowledgegraph\\.venv\\lib\\site-packages (from llama-index-core<0.13.0,>=0.12.0->llama-index-graph-stores-neo4j) (0.9.0)\n",
      "Requirement already satisfied: wrapt in f:\\ai\\knowledgegraph\\.venv\\lib\\site-packages (from llama-index-core<0.13.0,>=0.12.0->llama-index-graph-stores-neo4j) (1.17.2)\n",
      "Requirement already satisfied: aiohappyeyeballs>=2.3.0 in f:\\ai\\knowledgegraph\\.venv\\lib\\site-packages (from aiohttp<4,>=3.8.6->llama-index-core<0.13.0,>=0.12.0->llama-index-graph-stores-neo4j) (2.6.1)\n",
      "Requirement already satisfied: aiosignal>=1.1.2 in f:\\ai\\knowledgegraph\\.venv\\lib\\site-packages (from aiohttp<4,>=3.8.6->llama-index-core<0.13.0,>=0.12.0->llama-index-graph-stores-neo4j) (1.3.2)\n",
      "Requirement already satisfied: attrs>=17.3.0 in f:\\ai\\knowledgegraph\\.venv\\lib\\site-packages (from aiohttp<4,>=3.8.6->llama-index-core<0.13.0,>=0.12.0->llama-index-graph-stores-neo4j) (25.3.0)\n",
      "Requirement already satisfied: frozenlist>=1.1.1 in f:\\ai\\knowledgegraph\\.venv\\lib\\site-packages (from aiohttp<4,>=3.8.6->llama-index-core<0.13.0,>=0.12.0->llama-index-graph-stores-neo4j) (1.6.0)\n",
      "Requirement already satisfied: multidict<7.0,>=4.5 in f:\\ai\\knowledgegraph\\.venv\\lib\\site-packages (from aiohttp<4,>=3.8.6->llama-index-core<0.13.0,>=0.12.0->llama-index-graph-stores-neo4j) (6.4.3)\n",
      "Requirement already satisfied: propcache>=0.2.0 in f:\\ai\\knowledgegraph\\.venv\\lib\\site-packages (from aiohttp<4,>=3.8.6->llama-index-core<0.13.0,>=0.12.0->llama-index-graph-stores-neo4j) (0.3.1)\n",
      "Requirement already satisfied: yarl<2.0,>=1.17.0 in f:\\ai\\knowledgegraph\\.venv\\lib\\site-packages (from aiohttp<4,>=3.8.6->llama-index-core<0.13.0,>=0.12.0->llama-index-graph-stores-neo4j) (1.20.0)\n",
      "Requirement already satisfied: griffe in f:\\ai\\knowledgegraph\\.venv\\lib\\site-packages (from banks<3,>=2.0.0->llama-index-core<0.13.0,>=0.12.0->llama-index-graph-stores-neo4j) (1.7.3)\n",
      "Requirement already satisfied: jinja2 in f:\\ai\\knowledgegraph\\.venv\\lib\\site-packages (from banks<3,>=2.0.0->llama-index-core<0.13.0,>=0.12.0->llama-index-graph-stores-neo4j) (3.1.6)\n",
      "Requirement already satisfied: platformdirs in f:\\ai\\knowledgegraph\\.venv\\lib\\site-packages (from banks<3,>=2.0.0->llama-index-core<0.13.0,>=0.12.0->llama-index-graph-stores-neo4j) (4.3.7)\n",
      "Requirement already satisfied: pytz in f:\\ai\\knowledgegraph\\.venv\\lib\\site-packages (from neo4j<6.0.0,>=5.16.0->llama-index-graph-stores-neo4j) (2025.2)\n",
      "Requirement already satisfied: colorama in f:\\ai\\knowledgegraph\\.venv\\lib\\site-packages (from tqdm<5,>=4.66.1->llama-index-core<0.13.0,>=0.12.0->llama-index-graph-stores-neo4j) (0.4.6)\n",
      "Requirement already satisfied: idna>=2.0 in f:\\ai\\knowledgegraph\\.venv\\lib\\site-packages (from yarl<2.0,>=1.17.0->aiohttp<4,>=3.8.6->llama-index-core<0.13.0,>=0.12.0->llama-index-graph-stores-neo4j) (3.10)\n",
      "Requirement already satisfied: click in f:\\ai\\knowledgegraph\\.venv\\lib\\site-packages (from nltk>3.8.1->llama-index-core<0.13.0,>=0.12.0->llama-index-graph-stores-neo4j) (8.1.8)\n",
      "Requirement already satisfied: joblib in f:\\ai\\knowledgegraph\\.venv\\lib\\site-packages (from nltk>3.8.1->llama-index-core<0.13.0,>=0.12.0->llama-index-graph-stores-neo4j) (1.5.0)\n",
      "Requirement already satisfied: regex>=2021.8.3 in f:\\ai\\knowledgegraph\\.venv\\lib\\site-packages (from nltk>3.8.1->llama-index-core<0.13.0,>=0.12.0->llama-index-graph-stores-neo4j) (2024.11.6)\n",
      "Requirement already satisfied: annotated-types>=0.6.0 in f:\\ai\\knowledgegraph\\.venv\\lib\\site-packages (from pydantic>=2.8.0->llama-index-core<0.13.0,>=0.12.0->llama-index-graph-stores-neo4j) (0.7.0)\n",
      "Requirement already satisfied: pydantic-core==2.33.2 in f:\\ai\\knowledgegraph\\.venv\\lib\\site-packages (from pydantic>=2.8.0->llama-index-core<0.13.0,>=0.12.0->llama-index-graph-stores-neo4j) (2.33.2)\n",
      "Requirement already satisfied: typing-inspection>=0.4.0 in f:\\ai\\knowledgegraph\\.venv\\lib\\site-packages (from pydantic>=2.8.0->llama-index-core<0.13.0,>=0.12.0->llama-index-graph-stores-neo4j) (0.4.0)\n",
      "Requirement already satisfied: charset-normalizer<4,>=2 in f:\\ai\\knowledgegraph\\.venv\\lib\\site-packages (from requests>=2.31.0->llama-index-core<0.13.0,>=0.12.0->llama-index-graph-stores-neo4j) (3.4.2)\n",
      "Requirement already satisfied: urllib3<3,>=1.21.1 in f:\\ai\\knowledgegraph\\.venv\\lib\\site-packages (from requests>=2.31.0->llama-index-core<0.13.0,>=0.12.0->llama-index-graph-stores-neo4j) (2.4.0)\n",
      "Requirement already satisfied: certifi>=2017.4.17 in f:\\ai\\knowledgegraph\\.venv\\lib\\site-packages (from requests>=2.31.0->llama-index-core<0.13.0,>=0.12.0->llama-index-graph-stores-neo4j) (2025.4.26)\n",
      "Requirement already satisfied: greenlet>=1 in f:\\ai\\knowledgegraph\\.venv\\lib\\site-packages (from sqlalchemy>=1.4.49->sqlalchemy[asyncio]>=1.4.49->llama-index-core<0.13.0,>=0.12.0->llama-index-graph-stores-neo4j) (3.2.1)\n",
      "Requirement already satisfied: mypy-extensions>=0.3.0 in f:\\ai\\knowledgegraph\\.venv\\lib\\site-packages (from typing-inspect>=0.8.0->llama-index-core<0.13.0,>=0.12.0->llama-index-graph-stores-neo4j) (1.1.0)\n",
      "Requirement already satisfied: marshmallow<4.0.0,>=3.18.0 in f:\\ai\\knowledgegraph\\.venv\\lib\\site-packages (from dataclasses-json->llama-index-core<0.13.0,>=0.12.0->llama-index-graph-stores-neo4j) (3.26.1)\n",
      "Requirement already satisfied: packaging>=17.0 in f:\\ai\\knowledgegraph\\.venv\\lib\\site-packages (from marshmallow<4.0.0,>=3.18.0->dataclasses-json->llama-index-core<0.13.0,>=0.12.0->llama-index-graph-stores-neo4j) (25.0)\n",
      "Requirement already satisfied: anyio in f:\\ai\\knowledgegraph\\.venv\\lib\\site-packages (from httpx->llama-index-core<0.13.0,>=0.12.0->llama-index-graph-stores-neo4j) (4.9.0)\n",
      "Requirement already satisfied: httpcore==1.* in f:\\ai\\knowledgegraph\\.venv\\lib\\site-packages (from httpx->llama-index-core<0.13.0,>=0.12.0->llama-index-graph-stores-neo4j) (1.0.9)\n",
      "Requirement already satisfied: h11>=0.16 in f:\\ai\\knowledgegraph\\.venv\\lib\\site-packages (from httpcore==1.*->httpx->llama-index-core<0.13.0,>=0.12.0->llama-index-graph-stores-neo4j) (0.16.0)\n",
      "Requirement already satisfied: sniffio>=1.1 in f:\\ai\\knowledgegraph\\.venv\\lib\\site-packages (from anyio->httpx->llama-index-core<0.13.0,>=0.12.0->llama-index-graph-stores-neo4j) (1.3.1)\n",
      "Requirement already satisfied: MarkupSafe>=2.0 in f:\\ai\\knowledgegraph\\.venv\\lib\\site-packages (from jinja2->banks<3,>=2.0.0->llama-index-core<0.13.0,>=0.12.0->llama-index-graph-stores-neo4j) (3.0.2)\n",
      "Note: you may need to restart the kernel to use updated packages.\n"
     ]
    }
   ],
   "source": [
    "%pip install llama-index-graph-stores-neo4j\n"
   ]
  },
  {
   "cell_type": "markdown",
   "id": "086b7a55",
   "metadata": {},
   "source": [
    "# Knowledge Graph with Neo4j and LlamaIndex\n",
    "\n",
    "This notebook creates a knowledge graph from documents using LlamaIndex and Neo4j."
   ]
  },
  {
   "cell_type": "code",
   "execution_count": 3,
   "id": "1a3914c9",
   "metadata": {},
   "outputs": [],
   "source": [
    "import os\n",
    "from llama_index.llms.litellm import LiteLLM\n",
    "from llama_index.embeddings.openai import OpenAIEmbedding\n",
    "\n"
   ]
  },
  {
   "cell_type": "code",
   "execution_count": 4,
   "id": "420d4e1c",
   "metadata": {},
   "outputs": [],
   "source": [
    "\n",
    "import nest_asyncio\n",
    "nest_asyncio.apply()"
   ]
  },
  {
   "cell_type": "code",
   "execution_count": 5,
   "id": "990da7dc",
   "metadata": {},
   "outputs": [
    {
     "data": {
      "text/plain": [
       "True"
      ]
     },
     "execution_count": 5,
     "metadata": {},
     "output_type": "execute_result"
    }
   ],
   "source": [
    "import dotenv\n",
    "dotenv.load_dotenv()"
   ]
  },
  {
   "cell_type": "code",
   "execution_count": 6,
   "id": "0c097dd5",
   "metadata": {},
   "outputs": [],
   "source": [
    "llm = LiteLLM(model=\"gemini/gemini-2.0-flash-lite\",api_key=os.getenv(\"GOOGLE_API_KEY\"))\n",
    "# llm = LiteLLM(model=\"ollama/qwen3:8b\",api_key=os.getenv(\"GOOGLE_API_KEY\"))\n",
    "embedding = OpenAIEmbedding(model=\"text-embedding-ada-002\", api_key=os.getenv(\"OPENAI_API_KEY\"))"
   ]
  },
  {
   "cell_type": "code",
   "execution_count": 7,
   "id": "7a55f588",
   "metadata": {},
   "outputs": [],
   "source": [
    "from llama_index.core import KnowledgeGraphIndex, SimpleDirectoryReader\n",
    "from IPython.display import Markdown, display\n",
    "from llama_index.graph_stores.neo4j import Neo4jGraphStore\n",
    "from llama_index.core import StorageContext\n"
   ]
  },
  {
   "cell_type": "code",
   "execution_count": 8,
   "id": "8aa0d812",
   "metadata": {},
   "outputs": [],
   "source": [
    "\n",
    "# # For local Neo4j instance if you prefer that\n",
    "username = \"neo4j\"\n",
    "password = \"password\"  # default password for local Neo4j installation\n",
    "url = \"bolt://localhost:7687\"  # standard localhost URL for Neo4j"
   ]
  },
  {
   "cell_type": "code",
   "execution_count": 9,
   "id": "40306f1a",
   "metadata": {},
   "outputs": [],
   "source": [
    "documents= SimpleDirectoryReader(\"data\").load_data()"
   ]
  },
  {
   "cell_type": "code",
   "execution_count": 10,
   "id": "68a79fe2",
   "metadata": {},
   "outputs": [],
   "source": [
    "graph_store = Neo4jGraphStore(\n",
    "    username=username,\n",
    "    password=password,\n",
    "    url=url,\n",
    "    database=\"neo4j\",\n",
    ")\n",
    "\n",
    "storage_context = StorageContext.from_defaults(graph_store=graph_store)\n"
   ]
  },
  {
   "cell_type": "code",
   "execution_count": 11,
   "id": "b3cc9a6f",
   "metadata": {},
   "outputs": [
    {
     "name": "stderr",
     "output_type": "stream",
     "text": [
      "f:\\AI\\KnowledgeGraph\\.venv\\Lib\\site-packages\\tqdm\\auto.py:21: TqdmWarning: IProgress not found. Please update jupyter and ipywidgets. See https://ipywidgets.readthedocs.io/en/stable/user_install.html\n",
      "  from .autonotebook import tqdm as notebook_tqdm\n",
      "Parsing nodes: 100%|██████████| 21/21 [00:00<00:00, 26.20it/s]\n",
      "Processing nodes: 100%|██████████| 37/37 [01:19<00:00,  2.15s/it]\n"
     ]
    }
   ],
   "source": [
    "\n",
    "# NOTE: can take a while!\n",
    "index = KnowledgeGraphIndex.from_documents(\n",
    "    documents,\n",
    "    storage_context=storage_context,\n",
    "    max_triplets_per_chunk=10,\n",
    "    llm=llm,\n",
    "    show_progress=True,\n",
    "    embed_model=embedding,\n",
    ")"
   ]
  },
  {
   "cell_type": "markdown",
   "id": "c06cb77e",
   "metadata": {},
   "source": [
    "# Querying and Retrieval\n"
   ]
  },
  {
   "cell_type": "markdown",
   "id": "bcf56810",
   "metadata": {},
   "source": [
    "## Querying"
   ]
  },
  {
   "cell_type": "code",
   "execution_count": 12,
   "id": "6d6970c1",
   "metadata": {},
   "outputs": [
    {
     "name": "stdout",
     "output_type": "stream",
     "text": [
      "The following are knowledge sequence in max depth 2 in the form of directed graph like:\n",
      "`subject -[predicate]->, object, <-[predicate_next_hop]-, object_next_hop ...`\n",
      "['ใช้', 'ศึกษาแรงกดอัด']\n",
      "['ประกอบด้วย', 'อัตราส่วนความชะลูด']\n",
      "['ประกอบด้วย', 'อัตราส่วนเหล็กเสริม']\n",
      "['ประกอบด้วย', 'อัตราส่วนเหล็กเสริม', 'ทำให้', 'กำลังรับแรงดัดเพิ่มขึ้น']\n",
      "['ไม่มี', 'พจน์']\n",
      "['อยู่', 'รูป']\n"
     ]
    }
   ],
   "source": [
    "retriever = index.as_retriever(\n",
    "    include_text=False,  # include source text in returned nodes, default True\n",
    ")\n",
    "\n",
    "nodes = retriever.retrieve(\"ในสมการ (2.5) และ (2.6) ของ ACI มีเงื่อนไขการใช้สมการอย่างไร และตัวแปร h/r มีความสำคัญอย่างไร?\")\n",
    "\n",
    "for node in nodes:\n",
    "    print(node.text)\n"
   ]
  },
  {
   "cell_type": "markdown",
   "id": "178c9ebc",
   "metadata": {},
   "source": [
    "## Retrieval"
   ]
  },
  {
   "cell_type": "code",
   "execution_count": null,
   "id": "b56194df",
   "metadata": {},
   "outputs": [],
   "source": []
  },
  {
   "cell_type": "code",
   "execution_count": 13,
   "id": "fbf442a9",
   "metadata": {},
   "outputs": [
    {
     "name": "stdout",
     "output_type": "stream",
     "text": [
      "สมการ (2.5) และ (2.6) ของ ACI มีเงื่อนไขการใช้เช่น สำหรับ (2.5) เงื่อนไขคือ h/r ต้องน้อยกว่าหรือเท่ากับ 99 และสำหรับ (2.6) เงื่อนไขคือ h/r ต้องมากกว่า 99 โดยตัวแปร h/r มีความสำคัญเนื่องจากมีผลต่อการคำนวณแรงบรรทุกในแนวดิ่วที่ยอมให้ที่กระทำบนผนังในสมการทั้งสองในทางทฤษฎีและการออกแบบ.\n"
     ]
    }
   ],
   "source": [
    "query_engine = index.as_query_engine(include_text=True)\n",
    "\n",
    "response = query_engine.query(\"ในสมการ (2.5) และ (2.6) ของ ACI มีเงื่อนไขการใช้สมการอย่างไร และตัวแปร h/r มีความสำคัญอย่างไร?\")\n",
    "\n",
    "print(str(response))"
   ]
  }
 ],
 "metadata": {
  "kernelspec": {
   "display_name": ".venv",
   "language": "python",
   "name": "python3"
  },
  "language_info": {
   "codemirror_mode": {
    "name": "ipython",
    "version": 3
   },
   "file_extension": ".py",
   "mimetype": "text/x-python",
   "name": "python",
   "nbconvert_exporter": "python",
   "pygments_lexer": "ipython3",
   "version": "3.12.9"
  }
 },
 "nbformat": 4,
 "nbformat_minor": 5
}
